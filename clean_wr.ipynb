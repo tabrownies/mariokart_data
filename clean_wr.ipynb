{
 "cells": [
  {
   "cell_type": "code",
   "execution_count": 84,
   "metadata": {},
   "outputs": [],
   "source": [
    "from bs4 import BeautifulSoup"
   ]
  },
  {
   "cell_type": "code",
   "execution_count": 85,
   "metadata": {},
   "outputs": [],
   "source": [
    "# open the html file with the records and load into the HTML parser\n",
    "with open('records.html') as f:\n",
    "    html_text = f.read()\n",
    "soup = BeautifulSoup(html_text,'html.parser')"
   ]
  },
  {
   "cell_type": "markdown",
   "metadata": {},
   "source": [
    "### Parse Page"
   ]
  },
  {
   "cell_type": "code",
   "execution_count": 86,
   "metadata": {},
   "outputs": [],
   "source": [
    "# get the columns\n",
    "columns = list()\n",
    "for column_name in soup.find_all('th'):\n",
    "    columns.append(column_name.text)"
   ]
  },
  {
   "cell_type": "code",
   "execution_count": 87,
   "metadata": {},
   "outputs": [],
   "source": [
    "class Record():\n",
    "    def __init__(self, track, cc, time, player, nation, date, duration, character, vehicle,tires, glider, splits, mushroom, coin, hybrid_used):\n",
    "        self.track = track\n",
    "        self.cc = cc\n",
    "        self.time = time\n",
    "        self.player = player\n",
    "        self.nation = nation\n",
    "        self.date = date\n",
    "        self.duration = duration\n",
    "        self.character = character\n",
    "        self.vehicle = vehicle\n",
    "        self.tires = tires\n",
    "        self.glider = glider\n",
    "        self.splits = splits\n",
    "        self.mushroom = mushroom\n",
    "        self.coin = coin\n",
    "        self.hybrid_used = hybrid_used\n",
    "    def __str__(self):\n",
    "        return f'{self.track} {self.cc} {self.time} {self.player} {self.nation} {self.date} {self.duration} {self.character} {self.vehicle} {self.tires} {self.glider} {self.splits} {self.mushroom} {self.coin} {self.hybrid_used} '"
   ]
  },
  {
   "cell_type": "code",
   "execution_count": 88,
   "metadata": {},
   "outputs": [],
   "source": [
    "def parse_splits(splits_list):\n",
    "    for i, split in enumerate(splits_list):\n",
    "        splits_list[i] = float(split[2:-1])\n",
    "    return splits_list\n",
    "def parse_mushrooms(mushrooms_list):\n",
    "    for i, mushroom in enumerate(mushrooms_list):\n",
    "        if i == 0:\n",
    "            mushrooms_list[i] = int(mushroom[2])\n",
    "        elif i == len(mushrooms_list)-1:\n",
    "            mushrooms_list[i] = int(mushroom[0])\n",
    "        else:\n",
    "            mushrooms_list[i] = int(mushroom)\n",
    "    return mushrooms_list\n",
    "def parse_coins(coins_list):\n",
    "    for i, coin in enumerate(coins_list):\n",
    "        if i == 0:\n",
    "            coins_list[i] = int(coin[1])\n",
    "        elif i == len(coins_list)-1:\n",
    "            coins_list[i] = int(coin[0])\n",
    "        else:\n",
    "            coins_list[i] = int(coin[0])\n",
    "    return coins_list\n",
    "def parse_mouseover(mouseover_text):\n",
    "    data = mouseover_text.split('(')[1].split(',')[1:]\n",
    "    # print(data)\n",
    "    splits_list = data[:-2]\n",
    "    splits = parse_splits(splits_list)\n",
    "    mushrooms_list = data[-1].split('-')\n",
    "    mushrooms = parse_mushrooms(mushrooms_list)\n",
    "    coins_list = data[-2].strip().split('-')\n",
    "    parse_coins(coins_list)\n",
    "    coins = coins_list\n",
    "    return splits, mushrooms,coins"
   ]
  },
  {
   "cell_type": "code",
   "execution_count": 89,
   "metadata": {},
   "outputs": [],
   "source": [
    "records = list()\n",
    "rows = soup.find_all('tr')\n",
    "tied_times = {\n",
    "    'Mario Circuit': 3,\n",
    "    'GCN Baby Park': 3,\n",
    "    'Big Blue': 3,\n",
    "    'Tour Sydney Sprint': 3\n",
    "}\n",
    "def number_of_times(course_name):\n",
    "    if course_name in tied_times: return tied_times[course_name]\n",
    "    else: return 2\n",
    "i = 1\n",
    "while i < len(rows)-4:\n",
    "    course_name = ''\n",
    "    time_150 = 0\n",
    "    hybrid_150 = False\n",
    "    main_row = rows[i]\n",
    "    cols = main_row.find_all('td',recursive=False)\n",
    "    # if cols[0].td is not None:\n",
    "    #     print(cols[0].td)\n",
    "    for j, col in enumerate(main_row.find_all('td',recursive=False)):\n",
    "        if j==0:\n",
    "            if col.td is not None:\n",
    "                course_name = col.td.text\n",
    "        elif j==1:\n",
    "            time_150 = col.text\n",
    "            if col.img is not None:\n",
    "                hybrid_150 = True\n",
    "        elif j ==2:\n",
    "            player_150 = col.text\n",
    "        elif j ==3:\n",
    "            country_150 = col.img.get_attribute_list('title')[0]\n",
    "        elif j ==4:\n",
    "            date_150 = col.text\n",
    "        elif j ==5:\n",
    "            duration_150 = col.text\n",
    "        elif j==6:\n",
    "            character_150 = col.text\n",
    "        elif j==7:\n",
    "            kart_150 = col.text\n",
    "        elif j==8:\n",
    "            wheels_150 = col.text\n",
    "        elif j==9:\n",
    "            glider_150 = col.text\n",
    "        elif j==10:\n",
    "            mouseover = col.img.get_attribute_list('onmouseover')[0]\n",
    "            splits_150, mushrooms_150, coins_150 = parse_mouseover(mouseover)\n",
    "    \n",
    "    records.append(Record(course_name,150,time_150,player_150,country_150,date_150, duration_150, character_150,kart_150,wheels_150,glider_150,splits_150,mushrooms_150,coins_150,hybrid_150))\n",
    "    cc_200_row = rows[i+3]\n",
    "    for j, col in enumerate(cc_200_row.find_all('td',recursive=False)):\n",
    "        if j==0:\n",
    "            time_200 = col.text\n",
    "            if col.img is not None:\n",
    "                hybrid_200 = True\n",
    "        elif j ==1:\n",
    "            player_200 = col.text\n",
    "        elif j ==2:\n",
    "            country_200 = col.img.get_attribute_list('title')[0]\n",
    "        elif j ==3:\n",
    "            date_200 = col.text\n",
    "        elif j ==4:\n",
    "            duration_200 = col.text\n",
    "        elif j==5:\n",
    "            character_200 = col.text\n",
    "        elif j==6:\n",
    "            kart_200 = col.text\n",
    "        elif j==7:\n",
    "            wheels_200 = col.text\n",
    "        elif j==8:\n",
    "            glider_200 = col.text\n",
    "        elif j==9:\n",
    "            mouseover = col.img.get_attribute_list('onmouseover')[0]\n",
    "            splits_200, mushrooms_200, coins_200 = parse_mouseover(mouseover)\n",
    "    \n",
    "    records.append(Record(course_name,200,time_200,player_200,country_200,date_200, duration_200, character_200,kart_200,wheels_200,glider_200,splits_200,mushrooms_200,coins_200,hybrid_200))\n",
    "    \n",
    "    i += number_of_times(course_name)+2\n",
    "    # print(i)\n",
    "    \n",
    "    "
   ]
  },
  {
   "cell_type": "code",
   "execution_count": null,
   "metadata": {},
   "outputs": [],
   "source": []
  },
  {
   "cell_type": "code",
   "execution_count": null,
   "metadata": {},
   "outputs": [],
   "source": [
    "\n"
   ]
  },
  {
   "cell_type": "code",
   "execution_count": 90,
   "metadata": {},
   "outputs": [
    {
     "name": "stdout",
     "output_type": "stream",
     "text": [
      "GCN Baby Park 150 1'02\"142 JenZua Spain 2022-02-20 262 Waluigi Mr. Scooty Leaf Tires Paper Glider [10.337, 8.57, 8.655, 8.745, 8.801, 8.451, 8.583] [1, 1, 0, 0, 0, 1, 0] [7, 3, 0, 0, 0, 0, 0] False \n",
      "GCN Baby Park 200 1'02\"142 しののめ Japan 2022-06-21 141 Waluigi Mr. Scooty Button Paper Glider [9.907, 8.552, 8.572, 8.768, 8.798, 8.778, 8.767] [2, 1, 0, 0, 0, 0, 0] [7, 3, 0, 0, 0, 0, 0] True \n"
     ]
    }
   ],
   "source": [
    "# baby park is an edge case for the parsing, check it here\n",
    "for i,record in enumerate(records):\n",
    "    if record.track != 'GCN Baby Park': continue\n",
    "    print(record)"
   ]
  },
  {
   "cell_type": "code",
   "execution_count": 91,
   "metadata": {},
   "outputs": [
    {
     "data": {
      "text/plain": [
       "['Track',\n",
       " 'cc',\n",
       " 'time',\n",
       " 'Player',\n",
       " 'Nation',\n",
       " 'Date',\n",
       " 'Duration',\n",
       " 'Character',\n",
       " 'Vehicle',\n",
       " 'Tires',\n",
       " 'Glider',\n",
       " 'Splits',\n",
       " 'mushrooms',\n",
       " 'coins',\n",
       " 'hybrid_controls_used']"
      ]
     },
     "execution_count": 91,
     "metadata": {},
     "output_type": "execute_result"
    }
   ],
   "source": [
    "# build the columns for the pandas dataframe\n",
    "columns[1] = 'cc'\n",
    "columns[2] = 'time'\n",
    "columns.append('mushrooms')\n",
    "columns.append('coins')\n",
    "columns.append('hybrid_controls_used')\n",
    "columns"
   ]
  },
  {
   "cell_type": "code",
   "execution_count": null,
   "metadata": {},
   "outputs": [],
   "source": []
  }
 ],
 "metadata": {
  "kernelspec": {
   "display_name": "Python 3.10.7 64-bit",
   "language": "python",
   "name": "python3"
  },
  "language_info": {
   "codemirror_mode": {
    "name": "ipython",
    "version": 3
   },
   "file_extension": ".py",
   "mimetype": "text/x-python",
   "name": "python",
   "nbconvert_exporter": "python",
   "pygments_lexer": "ipython3",
   "version": "3.10.7"
  },
  "orig_nbformat": 4,
  "vscode": {
   "interpreter": {
    "hash": "b0fa6594d8f4cbf19f97940f81e996739fb7646882a419484c72d19e05852a7e"
   }
  }
 },
 "nbformat": 4,
 "nbformat_minor": 2
}
