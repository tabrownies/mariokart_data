{
 "cells": [
  {
   "cell_type": "code",
   "execution_count": 2,
   "metadata": {},
   "outputs": [],
   "source": [
    "from bs4 import BeautifulSoup"
   ]
  },
  {
   "cell_type": "code",
   "execution_count": 3,
   "metadata": {},
   "outputs": [],
   "source": [
    "# open the html file with the records and load into the HTML parser\n",
    "with open('records.html') as f:\n",
    "    html_text = f.read()\n",
    "soup = BeautifulSoup(html_text,'html.parser')"
   ]
  },
  {
   "cell_type": "markdown",
   "metadata": {},
   "source": [
    "### Parse Page"
   ]
  },
  {
   "cell_type": "code",
   "execution_count": 4,
   "metadata": {},
   "outputs": [],
   "source": [
    "# get the columns\n",
    "columns = list()\n",
    "for column_name in soup.find_all('th'):\n",
    "    columns.append(column_name.text)"
   ]
  },
  {
   "cell_type": "code",
   "execution_count": 8,
   "metadata": {},
   "outputs": [],
   "source": [
    "class Record():\n",
    "    def __init__(self, track, cc, time, player, nation, date, duration, character, vehicle,tires, glider, splits, mushroom, coin, hybrid_used):\n",
    "        self.track = track\n",
    "        self.cc = cc\n",
    "        self.time = time\n",
    "        self.player = player\n",
    "        self.nation = nation\n",
    "        self.date = date\n",
    "        self.duration = duration\n",
    "        self.character = character\n",
    "        self.vehicle = vehicle\n",
    "        self.tires = tires\n",
    "        self.glider = glider\n",
    "        self.splits = splits\n",
    "        self.mushroom = mushroom\n",
    "        self.coin = coin\n",
    "        self.hybrid_used = hybrid_used"
   ]
  },
  {
   "cell_type": "code",
   "execution_count": 31,
   "metadata": {},
   "outputs": [
    {
     "name": "stdout",
     "output_type": "stream",
     "text": [
      "2022-07-06\n",
      "[\"show_splits(\\n    'ttipid_splits', '33.047', '30.906', '30.759', '8-2-0', '1-1-1');\"]\n"
     ]
    }
   ],
   "source": [
    "rows = soup.find_all('tr')\n",
    "tied_times = {\n",
    "    'Mario Circuit': 3,\n",
    "    'GCN Baby Park': 3,\n",
    "    'Big Blue': 3,\n",
    "    'Tour Sydney Sprint': 3\n",
    "}\n",
    "def number_of_times(course_name):\n",
    "    if course_name in tied_times: return tied_times[course_name]\n",
    "    else: return 2\n",
    "i = 1\n",
    "while i < len(rows):\n",
    "    course_name = ''\n",
    "    time_150 = 0\n",
    "    hybrid_150 = False\n",
    "    main_row = rows[i]\n",
    "    cols = main_row.find_all('td',recursive=False)\n",
    "    # if cols[0].td is not None:\n",
    "    #     print(cols[0].td)\n",
    "    for j, col in enumerate(main_row.find_all('td',recursive=False)):\n",
    "        if j==0:\n",
    "            if col.td is not None:\n",
    "                course_name = col.td.text\n",
    "        elif j==1:\n",
    "            time_150 = col.text\n",
    "            if col.img is not None:\n",
    "                hybrid_150 = True\n",
    "        elif j ==2:\n",
    "            player_150 = col.text\n",
    "        elif j ==3:\n",
    "            country_150 = col.img.get_attribute_list('title')[0]\n",
    "        elif j ==4:\n",
    "            date_150 = col.text\n",
    "        elif j ==5:\n",
    "            duration_150 = col.text\n",
    "        elif j==6:\n",
    "            character_150 = col.text\n",
    "        elif j==7:\n",
    "            kart_150 = col.text\n",
    "        elif j==8:\n",
    "            wheels_150 = col.text\n",
    "        elif j==9:\n",
    "            glider_150 = col.text\n",
    "        elif j==10:\n",
    "            print(col.img.get_attribute_list('onmouseover'))\n",
    "        else:\n",
    "            pass\n",
    "            print(j,col)\n",
    "            # print(col.text)\n",
    "    # print(time_150)\n",
    "    break\n",
    "    i += number_of_times(course_name)+2\n",
    "    # print(i)\n",
    "    \n",
    "    "
   ]
  },
  {
   "cell_type": "code",
   "execution_count": null,
   "metadata": {},
   "outputs": [],
   "source": []
  },
  {
   "cell_type": "code",
   "execution_count": 6,
   "metadata": {},
   "outputs": [],
   "source": [
    "# # len(soup.find_all('tr'))\n",
    "# soup.find_all('tr')[257]\n",
    "# for i in range(1,261,4):\n",
    "#     print(i)\n"
   ]
  },
  {
   "cell_type": "code",
   "execution_count": null,
   "metadata": {},
   "outputs": [],
   "source": []
  }
 ],
 "metadata": {
  "kernelspec": {
   "display_name": "Python 3.10.7 64-bit",
   "language": "python",
   "name": "python3"
  },
  "language_info": {
   "codemirror_mode": {
    "name": "ipython",
    "version": 3
   },
   "file_extension": ".py",
   "mimetype": "text/x-python",
   "name": "python",
   "nbconvert_exporter": "python",
   "pygments_lexer": "ipython3",
   "version": "3.10.7"
  },
  "orig_nbformat": 4,
  "vscode": {
   "interpreter": {
    "hash": "b0fa6594d8f4cbf19f97940f81e996739fb7646882a419484c72d19e05852a7e"
   }
  }
 },
 "nbformat": 4,
 "nbformat_minor": 2
}
