{
 "cells": [
  {
   "cell_type": "markdown",
   "metadata": {},
   "source": [
    "# Parse Statistics\n",
    "This code reads the HTML tables found [here](https://www.google.com/search?q=mariokart+8+character+stats&oq=mariokart+8+character+stats&aqs=chrome..69i57j0i22i30l7j0i390l2.4423j0j7&sourceid=chrome&ie=UTF-8) to retrieve various stats about characters, karts, gliders, and tires."
   ]
  },
  {
   "cell_type": "code",
   "execution_count": 13,
   "metadata": {},
   "outputs": [],
   "source": [
    "import pandas as pd\n",
    "from bs4 import BeautifulSoup"
   ]
  },
  {
   "cell_type": "code",
   "execution_count": 14,
   "metadata": {},
   "outputs": [],
   "source": [
    "# open the html file with the records and load into the HTML parser. This should be replaced with code fetching from the website itself and then extracting the table.\n",
    "# because the tables all come from the same website they are structured the same so this code works for all the tables\n",
    "file_name='tires_stats'\n",
    "\n",
    "with open(f'{file_name}.html') as f:\n",
    "    html_text = f.read()\n",
    "soup = BeautifulSoup(html_text,'html.parser')"
   ]
  },
  {
   "cell_type": "code",
   "execution_count": 15,
   "metadata": {},
   "outputs": [],
   "source": [
    "columns = []\n",
    "header = soup.table.thead\n",
    "feature_map = dict()\n",
    "for column in header.find_all('th'):\n",
    "    columns.append(str.lower(column.text))\n",
    "    feature_map[str.lower(column.text)]=None"
   ]
  },
  {
   "cell_type": "code",
   "execution_count": 16,
   "metadata": {},
   "outputs": [],
   "source": [
    "df_rows_series = list()\n",
    "body = soup.table.tbody\n",
    "\n",
    "for row in body.find_all('tr', recursive=False):\n",
    "    for col_val,col_name in zip(row.find_all('td',recursive=False),columns):\n",
    "        feature_map[str.lower(col_name)] = col_val.text\n",
    "    df_rows_series.append(\n",
    "        pd.Series(feature_map)\n",
    "    )\n",
    "pd.DataFrame(df_rows_series).to_parquet(f'{file_name}.parquet')\n",
    "    "
   ]
  },
  {
   "cell_type": "code",
   "execution_count": null,
   "metadata": {},
   "outputs": [],
   "source": []
  }
 ],
 "metadata": {
  "kernelspec": {
   "display_name": "Python 3.10.7 64-bit",
   "language": "python",
   "name": "python3"
  },
  "language_info": {
   "codemirror_mode": {
    "name": "ipython",
    "version": 3
   },
   "file_extension": ".py",
   "mimetype": "text/x-python",
   "name": "python",
   "nbconvert_exporter": "python",
   "pygments_lexer": "ipython3",
   "version": "3.10.7"
  },
  "orig_nbformat": 4,
  "vscode": {
   "interpreter": {
    "hash": "b0fa6594d8f4cbf19f97940f81e996739fb7646882a419484c72d19e05852a7e"
   }
  }
 },
 "nbformat": 4,
 "nbformat_minor": 2
}
