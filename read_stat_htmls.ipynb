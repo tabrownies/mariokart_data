{
 "cells": [
  {
   "cell_type": "markdown",
   "metadata": {},
   "source": [
    "# Parse Statistics\n",
    "This code reads the HTML tables found [here](https://www.google.com/search?q=mariokart+8+character+stats&oq=mariokart+8+character+stats&aqs=chrome..69i57j0i22i30l7j0i390l2.4423j0j7&sourceid=chrome&ie=UTF-8) to retrieve various stats about characters, karts, gliders, and tires."
   ]
  },
  {
   "cell_type": "code",
   "execution_count": 101,
   "metadata": {},
   "outputs": [],
   "source": [
    "import pandas as pd\n",
    "from bs4 import BeautifulSoup\n",
    "pd.set_option('display.max_rows', None)"
   ]
  },
  {
   "cell_type": "code",
   "execution_count": 102,
   "metadata": {},
   "outputs": [],
   "source": [
    "# open the html file with the records and load into the HTML parser. This should be replaced with code fetching from the website itself and then extracting the table.\n",
    "# because the tables all come from the same website they are structured the same so this code works for all the tables\n",
    "file_name='character_stats'\n",
    "\n",
    "with open(f'html_files/{file_name}.html') as f:\n",
    "    html_text = f.read()\n",
    "soup = BeautifulSoup(html_text,'html.parser')"
   ]
  },
  {
   "cell_type": "code",
   "execution_count": 103,
   "metadata": {},
   "outputs": [],
   "source": [
    "name = None\n",
    "columns = []\n",
    "header = soup.table.thead\n",
    "feature_map = dict()\n",
    "for column in header.find_all('th'):\n",
    "    column_text = str.lower(column.text).strip()\n",
    "    columns.append(column_text)\n",
    "    if name is None:\n",
    "        name = column_text"
   ]
  },
  {
   "cell_type": "code",
   "execution_count": 104,
   "metadata": {},
   "outputs": [],
   "source": [
    "feature_map=dict()\n",
    "df_rows_series = list()\n",
    "body = soup.table.tbody\n",
    "\n",
    "for row in body.find_all('tr', recursive=False):\n",
    "    for col_val,col_name in zip(row.find_all('td',recursive=False),columns):\n",
    "        try:\n",
    "            if True and col_name == name:\n",
    "                feature_map[str.lower(col_name)] = col_val.text\n",
    "            else:\n",
    "                feature_map[str.lower(col_name)] = float(col_val.text)\n",
    "        except:\n",
    "            print(row)\n",
    "\n",
    "    if str.isspace(feature_map[name]): continue\n",
    "    df_rows_series.append(\n",
    "        pd.Series(feature_map)\n",
    "    )\n",
    "pd.DataFrame(df_rows_series).to_parquet(f'dfs/{file_name}.parquet')\n",
    "    "
   ]
  },
  {
   "cell_type": "code",
   "execution_count": null,
   "metadata": {},
   "outputs": [],
   "source": []
  }
 ],
 "metadata": {
  "kernelspec": {
   "display_name": "Python 3.10.7 64-bit",
   "language": "python",
   "name": "python3"
  },
  "language_info": {
   "codemirror_mode": {
    "name": "ipython",
    "version": 3
   },
   "file_extension": ".py",
   "mimetype": "text/x-python",
   "name": "python",
   "nbconvert_exporter": "python",
   "pygments_lexer": "ipython3",
   "version": "3.10.7"
  },
  "orig_nbformat": 4,
  "vscode": {
   "interpreter": {
    "hash": "b0fa6594d8f4cbf19f97940f81e996739fb7646882a419484c72d19e05852a7e"
   }
  }
 },
 "nbformat": 4,
 "nbformat_minor": 2
}
